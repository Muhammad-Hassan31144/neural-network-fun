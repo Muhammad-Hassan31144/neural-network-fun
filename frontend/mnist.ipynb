{
 "cells": [
  {
   "cell_type": "code",
   "execution_count": 1,
   "metadata": {},
   "outputs": [
    {
     "name": "stdout",
     "output_type": "stream",
     "text": [
      "Epoch 1/20\n",
      "30/30 - 2s - 73ms/step - accuracy: 0.2063 - loss: 2.2891 - val_accuracy: 0.5211 - val_loss: 2.1649\n",
      "Epoch 2/20\n",
      "30/30 - 0s - 10ms/step - accuracy: 0.5705 - loss: 2.0797 - val_accuracy: 0.5833 - val_loss: 1.9741\n",
      "Epoch 3/20\n",
      "30/30 - 0s - 11ms/step - accuracy: 0.6091 - loss: 1.8799 - val_accuracy: 0.6503 - val_loss: 1.7604\n",
      "Epoch 4/20\n",
      "30/30 - 0s - 9ms/step - accuracy: 0.6742 - loss: 1.6612 - val_accuracy: 0.7245 - val_loss: 1.5365\n",
      "Epoch 5/20\n",
      "30/30 - 0s - 9ms/step - accuracy: 0.7391 - loss: 1.4427 - val_accuracy: 0.7640 - val_loss: 1.3241\n",
      "Epoch 6/20\n",
      "30/30 - 0s - 9ms/step - accuracy: 0.7699 - loss: 1.2441 - val_accuracy: 0.7921 - val_loss: 1.1392\n",
      "Epoch 7/20\n",
      "30/30 - 0s - 10ms/step - accuracy: 0.7970 - loss: 1.0757 - val_accuracy: 0.8155 - val_loss: 0.9865\n",
      "Epoch 8/20\n",
      "30/30 - 0s - 9ms/step - accuracy: 0.8211 - loss: 0.9384 - val_accuracy: 0.8418 - val_loss: 0.8642\n",
      "Epoch 9/20\n",
      "30/30 - 0s - 11ms/step - accuracy: 0.8433 - loss: 0.8281 - val_accuracy: 0.8632 - val_loss: 0.7660\n",
      "Epoch 10/20\n",
      "30/30 - 0s - 12ms/step - accuracy: 0.8636 - loss: 0.7386 - val_accuracy: 0.8744 - val_loss: 0.6863\n",
      "Epoch 11/20\n",
      "30/30 - 0s - 12ms/step - accuracy: 0.8766 - loss: 0.6651 - val_accuracy: 0.8872 - val_loss: 0.6200\n",
      "Epoch 12/20\n",
      "30/30 - 0s - 11ms/step - accuracy: 0.8864 - loss: 0.6036 - val_accuracy: 0.8924 - val_loss: 0.5647\n",
      "Epoch 13/20\n",
      "30/30 - 0s - 9ms/step - accuracy: 0.8932 - loss: 0.5519 - val_accuracy: 0.8984 - val_loss: 0.5178\n",
      "Epoch 14/20\n",
      "30/30 - 0s - 9ms/step - accuracy: 0.8986 - loss: 0.5078 - val_accuracy: 0.9024 - val_loss: 0.4780\n",
      "Epoch 15/20\n",
      "30/30 - 0s - 12ms/step - accuracy: 0.9033 - loss: 0.4704 - val_accuracy: 0.9064 - val_loss: 0.4449\n",
      "Epoch 16/20\n",
      "30/30 - 0s - 9ms/step - accuracy: 0.9068 - loss: 0.4389 - val_accuracy: 0.9095 - val_loss: 0.4165\n",
      "Epoch 17/20\n",
      "30/30 - 0s - 11ms/step - accuracy: 0.9099 - loss: 0.4118 - val_accuracy: 0.9123 - val_loss: 0.3926\n",
      "Epoch 18/20\n",
      "30/30 - 0s - 10ms/step - accuracy: 0.9127 - loss: 0.3888 - val_accuracy: 0.9165 - val_loss: 0.3720\n",
      "Epoch 19/20\n",
      "30/30 - 0s - 10ms/step - accuracy: 0.9155 - loss: 0.3690 - val_accuracy: 0.9177 - val_loss: 0.3549\n",
      "Epoch 20/20\n",
      "30/30 - 0s - 10ms/step - accuracy: 0.9169 - loss: 0.3518 - val_accuracy: 0.9190 - val_loss: 0.3388\n"
     ]
    },
    {
     "name": "stderr",
     "output_type": "stream",
     "text": [
      "WARNING:absl:You are saving your model as an HDF5 file via `model.save()` or `keras.saving.save_model(model)`. This file format is considered legacy. We recommend using instead the native Keras format, e.g. `model.save('my_model.keras')` or `keras.saving.save_model(model, 'my_model.keras')`. \n"
     ]
    }
   ],
   "source": [
    "import tensorflow as tf\n",
    "import numpy as np\n",
    "\n",
    "# Load and preprocess the MNIST dataset\n",
    "(x_train, y_train), (x_test, y_test) = tf.keras.datasets.mnist.load_data()\n",
    "x_train = x_train.reshape(60000, 784).astype('float32') / 255\n",
    "x_test = x_test.reshape(10000, 784).astype('float32') / 255\n",
    "\n",
    "# Define and compile the model\n",
    "model = tf.keras.models.Sequential([\n",
    "    tf.keras.layers.Input(shape=(784,)),\n",
    "    tf.keras.layers.Dense(32, activation='sigmoid'),\n",
    "    tf.keras.layers.Dense(32, activation='sigmoid'),\n",
    "    tf.keras.layers.Dense(10, activation='softmax')\n",
    "])\n",
    "model.compile(optimizer='adam', loss='sparse_categorical_crossentropy', metrics=['accuracy'])\n",
    "\n",
    "# Train the model\n",
    "model.fit(x_train, y_train, epochs=20, batch_size=2048, validation_data=(x_test, y_test), verbose=2)\n",
    "\n",
    "# Save the trained model\n",
    "model.save('my_mnist.h5')\n"
   ]
  }
 ],
 "metadata": {
  "kernelspec": {
   "display_name": "Python 3",
   "language": "python",
   "name": "python3"
  },
  "language_info": {
   "codemirror_mode": {
    "name": "ipython",
    "version": 3
   },
   "file_extension": ".py",
   "mimetype": "text/x-python",
   "name": "python",
   "nbconvert_exporter": "python",
   "pygments_lexer": "ipython3",
   "version": "3.12.2"
  }
 },
 "nbformat": 4,
 "nbformat_minor": 2
}
